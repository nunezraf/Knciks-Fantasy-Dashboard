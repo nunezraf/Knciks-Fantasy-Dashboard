{
 "cells": [
  {
   "cell_type": "code",
   "execution_count": 1,
   "metadata": {},
   "outputs": [],
   "source": [
    "# Import libraries\n",
    "from splinter import Browser \n",
    "from bs4 import BeautifulSoup as bs \n",
    "import requests as r \n",
    "import pprint \n",
    "import pandas as pd \n",
    "import time \n",
    "import re "
   ]
  },
  {
   "cell_type": "markdown",
   "metadata": {},
   "source": [
    "## NBA Fantasy News "
   ]
  },
  {
   "cell_type": "code",
   "execution_count": 2,
   "metadata": {},
   "outputs": [],
   "source": [
    "# Initialize Browser \n",
    "\n",
    "executable_path= {\"executable_path\":\"/usr/local/bin/chromedriver\"}\n",
    "browser= Browser(\"chrome\", **executable_path, headless= False)"
   ]
  },
  {
   "cell_type": "code",
   "execution_count": 3,
   "metadata": {},
   "outputs": [],
   "source": [
    "#Visit Nba Fantasy News Site  \n",
    "url = \"http://www.rotoworld.com/sports/nba/basketball?ls=roto:nba:gnav\"\n",
    "browser.visit(url)\n",
    "\n",
    "#Scrape page into soup \n",
    "html = browser.html\n",
    "soup= bs(html,\"html.parser\")\n",
    "\n",
    "# find news title and Paragraph \n",
    "\n",
    "news_title = soup.find(\"div\", class_=\"excerpt\").get_text()\n",
    "news_img = soup.select_one('div.RW_mainstory img[src]')['src']\n",
    "# News_Image= soup.find()\n"
   ]
  },
  {
   "cell_type": "code",
   "execution_count": 4,
   "metadata": {},
   "outputs": [
    {
     "name": "stdout",
     "output_type": "stream",
     "text": [
      "\n",
      "       Get a sneak-peek at Rotoworld's comprehensive 2018 NBA Draft Guide, with everything you'll need to crush the competition on draft day!\n",
      "    \n",
      "http://www.rotoworld.com/images/photos/NBA/MLW/0NBA_Antetokounmpo1_300.jpg\n"
     ]
    }
   ],
   "source": [
    "print(news_title)\n",
    "print(news_img)\n"
   ]
  },
  {
   "cell_type": "markdown",
   "metadata": {},
   "source": [
    "## Top Fantasy Players"
   ]
  },
  {
   "cell_type": "code",
   "execution_count": 9,
   "metadata": {},
   "outputs": [
    {
     "name": "stdout",
     "output_type": "stream",
     "text": [
      "['Anthony Davis (NOR - PF,C) ', 'James Harden (HOU - PG,SG) ', 'Karl-Anthony Towns (MIN - C) ', 'Giannis Antetokounmpo (MIL - SF,PF) ', 'Kevin Durant (GSW - SF,PF) ', 'LeBron James (LAL - SF,PF) ', 'Stephen Curry (GSW - PG,SG) ', 'Nikola Jokic (DEN - PF,C) ', 'Damian Lillard (POR - PG) ', 'Victor Oladipo (IND - PG,SG) ']\n"
     ]
    }
   ],
   "source": [
    "url = \"https://www.fantasypros.com/nba/rankings/overall.php\"\n",
    "browser.visit(url)\n",
    "\n",
    "#Scrape page into soup \n",
    "html = browser.html\n",
    "soup= bs(html,\"html.parser\")\n",
    "\n",
    "# find news title and Paragraph \n",
    "\n",
    "top_players = soup.find_all(\"td\", class_=\"player-label\")\n",
    "players = []\n",
    "for a in top_players[:10]:\n",
    "#     print(a.text)\n",
    "    player = a.text\n",
    "    players.append(player)\n",
    "    \n",
    "print(players)\n",
    "\n",
    "\n"
   ]
  },
  {
   "cell_type": "code",
   "execution_count": null,
   "metadata": {},
   "outputs": [],
   "source": [
    "print (topplayers)"
   ]
  },
  {
   "cell_type": "code",
   "execution_count": null,
   "metadata": {},
   "outputs": [],
   "source": []
  }
 ],
 "metadata": {
  "kernelspec": {
   "display_name": "Python 3",
   "language": "python",
   "name": "python3"
  },
  "language_info": {
   "codemirror_mode": {
    "name": "ipython",
    "version": 3
   },
   "file_extension": ".py",
   "mimetype": "text/x-python",
   "name": "python",
   "nbconvert_exporter": "python",
   "pygments_lexer": "ipython3",
   "version": "3.6.4"
  }
 },
 "nbformat": 4,
 "nbformat_minor": 2
}
